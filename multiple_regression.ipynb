{
 "cells": [
  {
   "cell_type": "markdown",
   "id": "69658e90-83f3-4462-8d8e-6d44aa6f41bf",
   "metadata": {},
   "source": [
    "## Multiple Linear Regression\n",
    "In this lab, I look into linear regression with multiple features (4 in this case). Like simple regression, I build a model to predict prices of house, check the cost or error of the model and implement gradient descent to find best values for bias, b, and weight, w, to reduce the cost and improve the model."
   ]
  },
  {
   "cell_type": "code",
   "execution_count": 146,
   "id": "4aaba69e-69a1-4aef-95f5-e8cefc3599fd",
   "metadata": {},
   "outputs": [],
   "source": [
    "# import modules \n",
    "import math, copy\n",
    "import numpy as np \n",
    "import matplotlib.pyplot as plt"
   ]
  },
  {
   "cell_type": "markdown",
   "id": "a72372e8-ab58-4bfe-83b9-22b6a6bb4264",
   "metadata": {},
   "source": [
    "## The Model\n",
    "The training data has size of house, number of bedrooms, age of the house, and number of floors as features. [2104, 5, 1, 45] corresponds to the features. The target or label is the price of the house. "
   ]
  },
  {
   "cell_type": "markdown",
   "id": "04bae866-b75c-499d-925b-c728efb52a16",
   "metadata": {},
   "source": [
    "### Training Set\n",
    "The features are the x_train, while the targets are the y_train. I also initialize the w and b with optimal values."
   ]
  },
  {
   "cell_type": "code",
   "execution_count": 20,
   "id": "3376cbe2-b5b2-45bf-8677-2176085d4aa9",
   "metadata": {},
   "outputs": [],
   "source": [
    "x_train = np.array([[2104, 5, 1, 45], # the features\n",
    "                    [1416, 3, 2, 40],  \n",
    "                    [852, 2, 1, 35]]) \n",
    "y_train = np.array([460, 232, 178])   # the prices of the 3 houses as the target values, corresponding to their features\n",
    "\n",
    "b_init = 785.1811367994083\n",
    "w_init = np.array([ 0.39133535, 18.75376741, -53.36032453, -26.42131618])"
   ]
  },
  {
   "cell_type": "markdown",
   "id": "ebe160bb-5fc6-4c7d-98b1-936556450320",
   "metadata": {},
   "source": [
    "### Model with Loops\n",
    "Though not recommended in such cases, for loop can be used to create the model."
   ]
  },
  {
   "cell_type": "code",
   "execution_count": 21,
   "id": "a605e2e2-a27e-45c5-b5a1-8d475535017d",
   "metadata": {},
   "outputs": [
    {
     "data": {
      "text/plain": [
       "459.9999976194083"
      ]
     },
     "execution_count": 21,
     "metadata": {},
     "output_type": "execute_result"
    }
   ],
   "source": [
    "def model_loop(x, w, b):\n",
    "    m = x.shape[0]\n",
    "    y_pred = 0                    # initialize the predicted value\n",
    "    for i in range(m):\n",
    "        y_pred_1 = w[i] * x[i]       # multiplying element by element\n",
    "        y_pred = y_pred + y_pred_1\n",
    "    y_pred = y_pred + b             # I add the b later since it's just one\n",
    "    return y_pred\n",
    "\n",
    "#model_loop(x_train, w_init, b_init)\n",
    "\n",
    "# Predict a row \n",
    "x_row = x_train[0, :]\n",
    "#print(x_row)\n",
    "\n",
    "model_loop(x_row, w_init, b_init)\n"
   ]
  },
  {
   "cell_type": "markdown",
   "id": "c3ad9455-b99e-47d4-bc37-809501961b1a",
   "metadata": {},
   "source": [
    "### Model with Dot Product\n",
    "Using dot product implements vectorization, which is efficient, multiplying feature by feature and perfectly summing them up. It is also faster."
   ]
  },
  {
   "cell_type": "code",
   "execution_count": 22,
   "id": "75c6edbf-be3c-4289-8d8e-fd629eb35e4f",
   "metadata": {},
   "outputs": [
    {
     "data": {
      "text/plain": [
       "459.9999976194082"
      ]
     },
     "execution_count": 22,
     "metadata": {},
     "output_type": "execute_result"
    }
   ],
   "source": [
    "def model_main(x, w, b):\n",
    "    prediction = np.dot(w, x) + b\n",
    "    return prediction\n",
    "\n",
    "model_main(x_row, w_init, b_init)"
   ]
  },
  {
   "cell_type": "markdown",
   "id": "fca56cb8-9a08-472f-aea4-e50b2375dccd",
   "metadata": {},
   "source": [
    "## Cost Function with Multiple Features\n",
    "The cost function as learned earlier is the error between the predicted and the actual target or label value."
   ]
  },
  {
   "cell_type": "code",
   "execution_count": 79,
   "id": "8327a2cf-f137-43a3-8b44-ad26ec8cd048",
   "metadata": {},
   "outputs": [],
   "source": [
    "def cost(x, y, w, b):\n",
    "    m = x.shape[0]\n",
    "    cost = 0\n",
    "    for i in range(m):\n",
    "        prediction = np.dot(w, x[i]) + b   # individual predicted values plus b\n",
    "        #return prediction\n",
    "        cost_i = (prediction - y[i])**2  # individual cost\n",
    "        cost = cost + cost_i         # summing the cost together\n",
    "    total_cost = (1/(2*m))*cost    # using the cost function to find the total error \n",
    "    return total_cost\n",
    "        \n",
    "#cost(x_train, y_train, w_init, b_init) \n",
    "        "
   ]
  },
  {
   "cell_type": "markdown",
   "id": "64e33098-642a-4963-8a76-604e25a927fb",
   "metadata": {},
   "source": [
    "## Gradient Descent\n",
    "We want to find values of b and w at which there is zero error (cost) or very close to zero. It's bassically the point where the line or curve converge. "
   ]
  },
  {
   "cell_type": "markdown",
   "id": "9837144b-77cb-4691-8203-0616bce1471d",
   "metadata": {},
   "source": [
    "### Gradient\n",
    "First, as exactly in the gradient descent formular, we find the gradient or the slope. Remember, the slope is as a result of defferentiating the cost function."
   ]
  },
  {
   "cell_type": "code",
   "execution_count": 80,
   "id": "76cb3010-039b-4bf7-90fe-f470efc31868",
   "metadata": {},
   "outputs": [],
   "source": [
    "def gradient(x, y, w, b):\n",
    "    dj_dw = 0\n",
    "    dj_db = 0\n",
    "    m = x.shape[0]\n",
    "    for i in range(m):\n",
    "        prediction = np.dot(w, x[i]) + b  \n",
    "\n",
    "        # gradient with respect to w\n",
    "        dj_dw_i = (prediction - y[i]) * x[i]\n",
    "        dj_dw = dj_dw + dj_dw_i\n",
    "\n",
    "        # gradient with respect to b\n",
    "        dj_db_i = (prediction - y[i])\n",
    "        dj_db = dj_db + dj_db_i\n",
    "        \n",
    "    #main gradients applying the m division in the function\n",
    "    dj_dw = dj_dw / m\n",
    "    dj_db = dj_db / m\n",
    "    return dj_dw, dj_db\n",
    "\n",
    "#gradient(x_train, y_train, w_init, b_init)\n"
   ]
  },
  {
   "cell_type": "markdown",
   "id": "ab0c9ebe-ce04-4d1c-aa5f-f8451e9c2c64",
   "metadata": {},
   "source": [
    "### Gradient Descent\n",
    "We iterate further to get the best values of b and w that the cost is 0 or almost 0 in a case that the function doesn't converge"
   ]
  },
  {
   "cell_type": "code",
   "execution_count": 129,
   "id": "6bee789c-6d21-4f8a-b4ea-6f6586e75d00",
   "metadata": {},
   "outputs": [
    {
     "name": "stdout",
     "output_type": "stream",
     "text": [
      "Iteration    0: Cost  2529.46, w:[2.41334667e-01 5.58666667e-04 1.83666667e-04 6.03500000e-03], b: 0.000145  \n",
      "Iteration  100: Cost   695.99, w:[ 0.20235171  0.00079796 -0.00099658 -0.00219736], b: -0.00011985961877688924  \n",
      "Iteration  200: Cost   694.92, w:[ 0.20253446  0.00112715 -0.00214349 -0.00940619], b: -0.00035965781839536297  \n",
      "Iteration  300: Cost   693.86, w:[ 0.2027164   0.00145611 -0.00328876 -0.01658286], b: -0.0005983240279392167  \n",
      "Iteration  400: Cost   692.81, w:[ 0.20289753  0.00178484 -0.00443238 -0.02372751], b: -0.0008358632706869378  \n",
      "Iteration  500: Cost   691.77, w:[ 0.20307785  0.00211335 -0.00557437 -0.03084027], b: -0.0010722805476294606  \n",
      "Iteration  600: Cost   690.73, w:[ 0.20325736  0.00244162 -0.00671473 -0.0379213 ], b: -0.0013075808375690539  \n",
      "Iteration  700: Cost   689.71, w:[ 0.20343608  0.00276967 -0.00785347 -0.04497072], b: -0.0015417690972177685  \n",
      "Iteration  800: Cost   688.70, w:[ 0.20361399  0.00309749 -0.00899059 -0.05198869], b: -0.0017748502612954446  \n",
      "Iteration  900: Cost   687.69, w:[ 0.20379112  0.00342509 -0.01012611 -0.05897533], b: -0.002006829242627296  \n"
     ]
    }
   ],
   "source": [
    "def gradient_descent(x, y, alpha, iterations, w, b, cost_function, gradient_function):\n",
    "\n",
    "    J_history = []\n",
    "       \n",
    "    for i in range(iterations):\n",
    "        dj_dw, dj_db = gradient_function(x, y, w, b)\n",
    "\n",
    "        # Equate w and b to iterate further\n",
    "        w = w - alpha * dj_dw\n",
    "        b = b - alpha * dj_db\n",
    "\n",
    "        # add the cost value after every iteration\n",
    "        if i < 1000:\n",
    "            J_history.append( cost_function(x, y, w, b))\n",
    "\n",
    "        if i% math.ceil(iterations / 10) == 0:\n",
    "            \n",
    "            # This makes the formatting work provided the function is called with w as a zero vector of one row\n",
    "            print(f\"Iteration {i:4d}: Cost {J_history[-1]:8.2f}, w:{w}, b: {b}  \") \n",
    "\n",
    "\n",
    "            # This supports the second way of calling the function and indexing to get the various last values, not recommended\n",
    "            #print(f\"Iteration: {i:4d} Cost : {list(J_history)[-1][-1]}, w: {w}, b: {b}  \")\n",
    "            \n",
    "    return w, b, J_history\n",
    "\n",
    "# great way to call the function with special attention to w and b as vectors and not scalers\n",
    "w_final, b_final, J_hist = gradient_descent(x_train, y_train, 5.0e-7, 1000, np.zeros_like(w_init), 0., cost, gradient)\n",
    "\n",
    "# below is a my way of calling the function initially, but it returns J_history, w and b as arrays instead of vectors\n",
    "# y = gradient_descent(x_train, y_train, 5.0e-7, 1000, 0, 0, cost, gradient)\n",
    "        \n",
    "    "
   ]
  },
  {
   "cell_type": "markdown",
   "id": "b66503c5-a005-41da-88ea-ab126aab272c",
   "metadata": {},
   "source": [
    "## Predicting with New Model\n",
    "This model relies on the final values of b and w to make predictions"
   ]
  },
  {
   "cell_type": "code",
   "execution_count": 169,
   "id": "9d6fa87e-2dda-40d8-a482-936000abd7af",
   "metadata": {},
   "outputs": [
    {
     "name": "stdout",
     "output_type": "stream",
     "text": [
      "[ 0.20396569  0.00374919 -0.0112487  -0.0658614 ] -0.0022354075309325345\n",
      " predicting the x train values using our current parameters, we get 426.18530497189204, which compares to the original values 460\n",
      " predicting the x train values using our current parameters, we get 286.1674720078562, which compares to the original values 232\n",
      " predicting the x train values using our current parameters, we get 171.46763087132317, which compares to the original values 178\n"
     ]
    },
    {
     "data": {
      "text/plain": [
       "900"
      ]
     },
     "execution_count": 169,
     "metadata": {},
     "output_type": "execute_result"
    }
   ],
   "source": [
    "print(w_final, b_final)\n",
    "m = x_train.shape[0]\n",
    "for i in range(m):\n",
    "    print(f\" predicting the x train values using our current parameters, we get {np.dot(w_final, x_train[i]) + b_final}, which compares to the original values {y_train[i]}\")\n"
   ]
  },
  {
   "cell_type": "markdown",
   "id": "9de919c9-d045-4d4f-8a00-04728c147f8e",
   "metadata": {},
   "source": [
    "## Visualize Cost \n",
    "Below, cost is plotted against iterations."
   ]
  },
  {
   "cell_type": "code",
   "execution_count": 187,
   "id": "ae4f138a-6d09-4fcb-9b06-d071be602def",
   "metadata": {},
   "outputs": [
    {
     "data": {
      "image/png": "[encoded data removed]",
      "text/plain": [
       "<Figure size 1200x400 with 2 Axes>"
      ]
     },
     "metadata": {},
     "output_type": "display_data"
    }
   ],
   "source": [
    "fig, axes= plt.subplots(1, 2, figsize = (12, 4))\n",
    "axes[0].plot(J_hist) # plot just cost values over the 1000 iterations\n",
    "axes[1].plot(np.arange(len(J_hist[100:]))+10, J_hist[100:]) #plots cost values at iteration 100 to 1000\n",
    "axes[0].set_title(\"Cost vs. iteration\");  axes[1].set_title(\"Cost vs. iteration (tail)\")\n",
    "axes[0].set_ylabel('Cost')             ;  axes[1].set_ylabel('Cost') \n",
    "axes[0].set_xlabel('iteration step')   ;  axes[1].set_xlabel('iteration step') \n",
    "plt.show()"
   ]
  }
 ],
 "metadata": {
  "kernelspec": {
   "display_name": "Python 3 (ipykernel)",
   "language": "python",
   "name": "python3"
  },
  "language_info": {
   "codemirror_mode": {
    "name": "ipython",
    "version": 3
   },
   "file_extension": ".py",
   "mimetype": "text/x-python",
   "name": "python",
   "nbconvert_exporter": "python",
   "pygments_lexer": "ipython3",
   "version": "3.12.2"
  }
 },
 "nbformat": 4,
 "nbformat_minor": 5
}
