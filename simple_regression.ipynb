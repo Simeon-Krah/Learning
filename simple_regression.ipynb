{
 "cells": [
  {
   "cell_type": "markdown",
   "id": "35534f50-4c7b-4d90-82e1-c3f862d338dd",
   "metadata": {},
   "source": [
    "## Introduction: Simple Regression"
   ]
  },
  {
   "cell_type": "raw",
   "id": "c1e44878-220f-453a-8d6c-eac4df734cc6",
   "metadata": {},
   "source": [
    "Regression, a type of supervised learning, helps to predict number out of infinite many possible numbers. Simple linear regression is a regression with one feature. In this lab, we train a module to predict, find its error and use gradient descent to improve it."
   ]
  },
  {
   "cell_type": "markdown",
   "id": "749ad833-9af9-4bb3-83ed-701d7bb0a610",
   "metadata": {},
   "source": [
    "## The Model "
   ]
  },
  {
   "cell_type": "code",
   "execution_count": 4,
   "id": "e4fbd925-3ff7-4f3a-af23-bc05976bf4ef",
   "metadata": {},
   "outputs": [],
   "source": [
    "#import modules to train the algorithm, find cost and later the gradient descent \n",
    "import math, copy\n",
    "import numpy as np\n",
    "import matplotlib.pyplot as plt"
   ]
  },
  {
   "cell_type": "code",
   "execution_count": 5,
   "id": "490e16bb-6b27-4651-93e5-bee50bfc6402",
   "metadata": {},
   "outputs": [],
   "source": [
    "# train the linear regression\n",
    "x_train = np.array([1, 2]) # size of buildong\n",
    "y_train = np.array([300, 500]) # price or cost of the building\n",
    "b = 100 # bias in the algorithm \n",
    "w = 210 # weight or slope of the linear algorithm \n",
    "\n",
    " \n",
    "\n"
   ]
  },
  {
   "cell_type": "code",
   "execution_count": 6,
   "id": "e1de5669-23b5-4ad2-acc4-a8ea1c2500b6",
   "metadata": {},
   "outputs": [
    {
     "data": {
      "image/png": "[encoded data removed]",
      "text/plain": [
       "<Figure size 640x480 with 1 Axes>"
      ]
     },
     "metadata": {},
     "output_type": "display_data"
    }
   ],
   "source": [
    "# make a function to predict \n",
    "def predict_price(x, y):\n",
    "    m = x_train.shape[0] # returns the length of the training set and assigns it to m as the total number of data\n",
    "    y_pred = np.zeros(m) # returns a one dimensional array with entities of the same length as m\n",
    "    for i in range(m):\n",
    "        y_pred[i] = b + w*x[i]\n",
    "        \n",
    "    return y_pred\n",
    "    #print(y_pred)\n",
    "\n",
    "prediction = predict_price(x_train, y_train)\n",
    "plt.scatter(x_train, y_train, color = \"red\") # plots the actual training sets or data\n",
    "plt.plot(x_train, prediction, \"b\") # plot the predicted values \n",
    "plt.title(\"Houses Prices\")\n",
    "plt.xlabel(\"Size of House\")\n",
    "plt.ylabel(\"Price of house\")\n",
    "plt.legend([\"Actual Point\", \"Prediction Algorithm\"])\n",
    "plt.show()\n",
    "\n",
    "\n"
   ]
  },
  {
   "cell_type": "markdown",
   "id": "8ff5bdc7-a786-4659-a69f-5106d2b8b5ba",
   "metadata": {},
   "source": [
    "## Cost Function "
   ]
  },
  {
   "cell_type": "raw",
   "id": "bdf603ea-8d84-4aa4-b4e3-de007f8c91a5",
   "metadata": {},
   "source": [
    "The cost function helps to calculate the error of the model or the linear regression in the above case. \n",
    "Basicallly, the error is the difference between the predicted and the actual, which we square for better interpretation. \n",
    "The higher the error, the worse the model is. We find the total cost by adding the cost of each prediction or data point."
   ]
  },
  {
   "cell_type": "code",
   "execution_count": 7,
   "id": "273e4beb-c11b-464f-a4a9-75ab77607d71",
   "metadata": {},
   "outputs": [],
   "source": [
    "def cost(x, y, w, b):\n",
    "    m = x.shape[0]\n",
    "    cost = 0\n",
    "    for i in range(m):\n",
    "        y_pred = b + w*x[i]\n",
    "        cost = cost + (y_pred - y[i])**2\n",
    "        total_cost = 1 / (2*m) * cost   # computes the total cost\n",
    "    #print(cost)\n",
    "    #print(total_cost)\n",
    "    return total_cost\n",
    "\n",
    "#cost(x_train, y_train)\n",
    "        "
   ]
  },
  {
   "cell_type": "markdown",
   "id": "dd88e001-923f-4f88-b741-accef412bda2",
   "metadata": {},
   "source": [
    "## Gradients"
   ]
  },
  {
   "cell_type": "raw",
   "id": "21d40d2d-9e2a-4f35-a45d-69de3f0e8c2a",
   "metadata": {},
   "source": [
    "The gradient descent helps to reduce the cost function by finding the best b and w parameters. We want to cost or the errow to reach as low as zero.\n",
    "And the gradient descent algorithm allows us to iterate the b and w parameters. Remember: we use differentiation, which is also slope to find the parameters. dj/dw is differentiating the cost function, dj, with respect to w. dj/db follows suit but with respect to b."
   ]
  },
  {
   "cell_type": "code",
   "execution_count": 8,
   "id": "c24cdd2e-40c5-4335-ad76-1eb43535d2bc",
   "metadata": {},
   "outputs": [],
   "source": [
    "def gradient(x, y, w, b): \n",
    "    \"\"\"\n",
    "    Computes the gradient for linear regression \n",
    "    Args:\n",
    "      x (ndarray (m,)): Data, m examples \n",
    "      y (ndarray (m,)): target values\n",
    "      w,b (scalar)    : model parameters  \n",
    "    Returns\n",
    "      dj_dw (scalar): The gradient of the cost w.r.t. the parameters w\n",
    "      dj_db (scalar): The gradient of the cost w.r.t. the parameter b     \n",
    "     \"\"\"\n",
    "    \n",
    "    # Number of training examples\n",
    "    m = x.shape[0]    \n",
    "    dj_dw = 0\n",
    "    dj_db = 0\n",
    "    \n",
    "    for i in range(m):  \n",
    "        y_pred= w * x[i] + b \n",
    "        dj_dw_i = (y_pred - y[i]) * x[i] \n",
    "        dj_db_i = y_pred- y[i] \n",
    "        dj_db += dj_db_i\n",
    "        dj_dw += dj_dw_i \n",
    "    dj_dw = dj_dw / m \n",
    "    dj_db = dj_db / m \n",
    "    return dj_dw, dj_db\n",
    "\n",
    "#gradient(x_train, y_train, 0, 0)"
   ]
  },
  {
   "cell_type": "markdown",
   "id": "725b56c6-75d9-41bd-b7b4-c161dca89c72",
   "metadata": {},
   "source": [
    "## Gradient Descent"
   ]
  },
  {
   "cell_type": "raw",
   "id": "cf2d0335-5498-4f28-b76d-8a1bc991e973",
   "metadata": {},
   "source": [
    "Now, we want to complete the gradient descent as we have gradient and cost function to find best values of b and w that can reduce the error to 0."
   ]
  },
  {
   "cell_type": "code",
   "execution_count": 14,
   "id": "3b21efb5-5b37-443b-a1a2-61d558c66a90",
   "metadata": {},
   "outputs": [],
   "source": [
    "def gradient_descent(x, y, w_in, b_in, alpha, num_iters, cost_function, gradient_function): \n",
    "    \"\"\"\n",
    "    Performs gradient descent to fit w,b. Updates w,b by taking \n",
    "    num_iters gradient steps with learning rate alpha\n",
    "    \n",
    "    Args:\n",
    "      x (ndarray (m,))  : Data, m examples \n",
    "      y (ndarray (m,))  : target values\n",
    "      w_in,b_in (scalar): initial values of  model parameters  \n",
    "      alpha (float):     Learning rate\n",
    "      num_iters (int):   number of iterations to run gradient descent\n",
    "      cost_function:     function to call to produce cost\n",
    "      gradient_function: function to call to produce gradient\n",
    "      \n",
    "    Returns:\n",
    "      w (scalar): Updated value of parameter after running gradient descent\n",
    "      b (scalar): Updated value of parameter after running gradient descent\n",
    "      J_history (List): History of cost values\n",
    "      p_history (list): History of parameters [w,b] \n",
    "      \"\"\"\n",
    "    \n",
    "    # An array to store cost J and w's at each iteration primarily for graphing later\n",
    "    J_history = []\n",
    "    p_history = []\n",
    "    b = b_in\n",
    "    w = w_in\n",
    "    \n",
    "    for i in range(num_iters):\n",
    "        # Calculate the gradient and update the parameters using gradient_function\n",
    "        dj_dw, dj_db = gradient_function(x, y, w, b)     \n",
    "\n",
    "        # Update Parameters using equation (3) above\n",
    "        b = b - alpha * dj_db                            \n",
    "        w = w - alpha * dj_dw                            \n",
    "\n",
    "        # Save cost J at each iteration\n",
    "        J_history.append( cost_function(x, y, w, b))\n",
    "        p_history.append([w,b])\n",
    "        # Print cost every at intervals 10 times or as many iterations if < 10\n",
    "        if i% math.ceil(num_iters/10) == 0:\n",
    "            print(f\"Iteration {i:4}: Cost {J_history[-1]:0.2e} \",\n",
    "                      f\"dj_dw: {dj_dw: 0.3e}, dj_db: {dj_db: 0.3e}  \",\n",
    "                      f\"w: {w: 0.3e}, b:{b: 0.5e}\")\n",
    " \n",
    "    return w, b, J_history, p_history #return w and J,w history for graphing"
   ]
  },
  {
   "cell_type": "code",
   "execution_count": 15,
   "id": "8a65064f-ae98-40a2-8b05-52fe264adfe5",
   "metadata": {},
   "outputs": [
    {
     "name": "stdout",
     "output_type": "stream",
     "text": [
      "Iteration    0: Cost 7.93e+04  dj_dw: -6.500e+02, dj_db: -4.000e+02   w:  6.500e+00, b: 4.00000e+00\n",
      "Iteration 1000: Cost 3.41e+00  dj_dw: -3.712e-01, dj_db:  6.007e-01   w:  1.949e+02, b: 1.08228e+02\n",
      "Iteration 2000: Cost 7.93e-01  dj_dw: -1.789e-01, dj_db:  2.895e-01   w:  1.975e+02, b: 1.03966e+02\n",
      "Iteration 3000: Cost 1.84e-01  dj_dw: -8.625e-02, dj_db:  1.396e-01   w:  1.988e+02, b: 1.01912e+02\n",
      "Iteration 4000: Cost 4.28e-02  dj_dw: -4.158e-02, dj_db:  6.727e-02   w:  1.994e+02, b: 1.00922e+02\n",
      "Iteration 5000: Cost 9.95e-03  dj_dw: -2.004e-02, dj_db:  3.243e-02   w:  1.997e+02, b: 1.00444e+02\n",
      "Iteration 6000: Cost 2.31e-03  dj_dw: -9.660e-03, dj_db:  1.563e-02   w:  1.999e+02, b: 1.00214e+02\n",
      "Iteration 7000: Cost 5.37e-04  dj_dw: -4.657e-03, dj_db:  7.535e-03   w:  1.999e+02, b: 1.00103e+02\n",
      "Iteration 8000: Cost 1.25e-04  dj_dw: -2.245e-03, dj_db:  3.632e-03   w:  2.000e+02, b: 1.00050e+02\n",
      "Iteration 9000: Cost 2.90e-05  dj_dw: -1.082e-03, dj_db:  1.751e-03   w:  2.000e+02, b: 1.00024e+02\n",
      "(w,b) found by gradient descent: (199.9929,100.0116)\n"
     ]
    }
   ],
   "source": [
    "w_final, b_final, J_hist, p_hist = gradient_descent(x_train, y_train, 0, 0, 0.01, \n",
    "                                                    10000, cost, gradient)\n",
    "print(f\"(w,b) found by gradient descent: ({w_final:8.4f},{b_final:8.4f})\")"
   ]
  }
 ],
 "metadata": {
  "kernelspec": {
   "display_name": "Python 3 (ipykernel)",
   "language": "python",
   "name": "python3"
  },
  "language_info": {
   "codemirror_mode": {
    "name": "ipython",
    "version": 3
   },
   "file_extension": ".py",
   "mimetype": "text/x-python",
   "name": "python",
   "nbconvert_exporter": "python",
   "pygments_lexer": "ipython3",
   "version": "3.12.2"
  }
 },
 "nbformat": 4,
 "nbformat_minor": 5
}
